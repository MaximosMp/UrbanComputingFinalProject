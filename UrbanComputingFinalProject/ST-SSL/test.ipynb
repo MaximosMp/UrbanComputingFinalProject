{
 "cells": [
  {
   "cell_type": "code",
   "execution_count": 24,
   "metadata": {},
   "outputs": [
    {
     "name": "stdout",
     "output_type": "stream",
     "text": [
      "adj_mx.npz\n",
      "test.npz\n",
      "train.npz\n",
      "val.npz\n"
     ]
    }
   ],
   "source": [
    "# read .npz files from data folder\n",
    "import os\n",
    "import numpy as np\n",
    "import pandas as pd\n",
    "\n",
    "# read adj matrix\n",
    "data_path = './data/NYCBike1/'\n",
    "\n",
    "# check the files in the folder\n",
    "files = os.listdir(data_path)\n",
    "\n",
    "for file in files:\n",
    "    print(file)"
   ]
  },
  {
   "cell_type": "code",
   "execution_count": 25,
   "metadata": {},
   "outputs": [
    {
     "name": "stdout",
     "output_type": "stream",
     "text": [
      "Adj. matrix files:  ['adj_mx']\n",
      "Test  files:  ['x', 'y', 'x_offsets', 'y_offsets']\n",
      "Train files:  ['x', 'y', 'x_offsets', 'y_offsets']\n",
      "Values files: ['x', 'y', 'x_offsets', 'y_offsets']\n"
     ]
    }
   ],
   "source": [
    "adj_mx = np.load(data_path + 'adj_mx.npz')\n",
    "print(\"Adj. matrix files: \", adj_mx.files)\n",
    "test = np.load(data_path + 'test.npz')\n",
    "print(\"Test  files: \", test.files)\n",
    "train = np.load(data_path + 'train.npz')\n",
    "print(\"Train files: \", train.files)\n",
    "val = np.load(data_path + 'val.npz')\n",
    "print(\"Values files:\", val.files)"
   ]
  },
  {
   "cell_type": "code",
   "execution_count": 26,
   "metadata": {},
   "outputs": [],
   "source": [
    "adj_mx = adj_mx['adj_mx']\n",
    "\n",
    "# Test  files:  ['x', 'y', 'x_offsets', 'y_offsets'] save in one file\n",
    "test_x = test['x']\n",
    "test_y = test['y']\n",
    "test_x_offsets = test['x_offsets']\n",
    "test_y_offsets = test['y_offsets']\n",
    "\n",
    "# Train files:  ['x', 'y', 'x_offsets', 'y_offsets'] save in one file\n",
    "train_x = train['x']\n",
    "train_y = train['y']\n",
    "train_x_offsets = train['x_offsets']\n",
    "train_y_offsets = train['y_offsets']\n",
    "\n",
    "# Values files: ['x', 'y', 'x_offsets', 'y_offsets'] save in one file\n",
    "val_x = val['x']\n",
    "val_y = val['y']\n",
    "val_x_offsets = val['x_offsets']\n",
    "val_y_offsets = val['y_offsets']\n",
    "\n",
    "\n"
   ]
  },
  {
   "cell_type": "code",
   "execution_count": 28,
   "metadata": {},
   "outputs": [
    {
     "data": {
      "text/plain": [
       "((864, 19, 128, 2), (864, 1, 128, 2), (19, 1), (1, 1))"
      ]
     },
     "execution_count": 28,
     "metadata": {},
     "output_type": "execute_result"
    }
   ],
   "source": [
    "test_x.shape, test_y.shape, test_x_offsets.shape, test_y_offsets.shape"
   ]
  },
  {
   "cell_type": "code",
   "execution_count": 29,
   "metadata": {},
   "outputs": [
    {
     "data": {
      "text/plain": [
       "array([[-73],\n",
       "       [-72],\n",
       "       [-71],\n",
       "       [-70],\n",
       "       [-69],\n",
       "       [-49],\n",
       "       [-48],\n",
       "       [-47],\n",
       "       [-46],\n",
       "       [-45],\n",
       "       [-25],\n",
       "       [-24],\n",
       "       [-23],\n",
       "       [-22],\n",
       "       [-21],\n",
       "       [ -3],\n",
       "       [ -2],\n",
       "       [ -1],\n",
       "       [  0]], dtype=int64)"
      ]
     },
     "execution_count": 29,
     "metadata": {},
     "output_type": "execute_result"
    }
   ],
   "source": [
    "test_x_offsets"
   ]
  }
 ],
 "metadata": {
  "kernelspec": {
   "display_name": "Python 3",
   "language": "python",
   "name": "python3"
  },
  "language_info": {
   "codemirror_mode": {
    "name": "ipython",
    "version": 3
   },
   "file_extension": ".py",
   "mimetype": "text/x-python",
   "name": "python",
   "nbconvert_exporter": "python",
   "pygments_lexer": "ipython3",
   "version": "3.8.2"
  }
 },
 "nbformat": 4,
 "nbformat_minor": 2
}
