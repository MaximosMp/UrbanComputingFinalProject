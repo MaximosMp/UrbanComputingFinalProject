{
 "cells": [
  {
   "cell_type": "code",
   "execution_count": 1,
   "metadata": {},
   "outputs": [
    {
     "name": "stdout",
     "output_type": "stream",
     "text": [
      "Requirement already satisfied: torch in c:\\users\\30697\\anaconda3\\lib\\site-packages (2.1.1)\n",
      "Requirement already satisfied: filelock in c:\\users\\30697\\appdata\\roaming\\python\\python311\\site-packages (from torch) (3.13.1)\n",
      "Requirement already satisfied: typing-extensions in c:\\users\\30697\\appdata\\roaming\\python\\python311\\site-packages (from torch) (4.8.0)\n",
      "Requirement already satisfied: sympy in c:\\users\\30697\\appdata\\roaming\\python\\python311\\site-packages (from torch) (1.12)\n",
      "Requirement already satisfied: networkx in c:\\users\\30697\\appdata\\roaming\\python\\python311\\site-packages (from torch) (3.2.1)\n",
      "Requirement already satisfied: jinja2 in c:\\users\\30697\\anaconda3\\lib\\site-packages (from torch) (3.1.2)\n",
      "Requirement already satisfied: fsspec in c:\\users\\30697\\appdata\\roaming\\python\\python311\\site-packages (from torch) (2023.10.0)\n",
      "Requirement already satisfied: MarkupSafe>=2.0 in c:\\users\\30697\\anaconda3\\lib\\site-packages (from jinja2->torch) (2.1.1)\n",
      "Requirement already satisfied: mpmath>=0.19 in c:\\users\\30697\\appdata\\roaming\\python\\python311\\site-packages (from sympy->torch) (1.3.0)\n",
      "Note: you may need to restart the kernel to use updated packages.\n"
     ]
    }
   ],
   "source": [
    "pip install torch"
   ]
  },
  {
   "cell_type": "code",
   "execution_count": 2,
   "metadata": {},
   "outputs": [],
   "source": [
    "import networkx as nx\n",
    "from scipy.stats import kstest\n",
    "from scipy.special import softmax\n",
    "import torch\n",
    "import powerlaw\n",
    "import os\n",
    "import numpy as np\n",
    "import pandas as pd\n",
    "import matplotlib.pyplot as plt\n",
    "import random\n"
   ]
  },
  {
   "cell_type": "code",
   "execution_count": 3,
   "metadata": {},
   "outputs": [
    {
     "name": "stdout",
     "output_type": "stream",
     "text": [
      "adj_mx.npz\n",
      "test.npz\n",
      "train.npz\n",
      "val.npz\n"
     ]
    }
   ],
   "source": [
    "# read .npz files from data folder\n",
    "\n",
    "\n",
    "# read adj matrix\n",
    "data_path = './data/NYCBike1/'\n",
    "\n",
    "# check the files in the folder\n",
    "files = os.listdir(data_path)\n",
    "\n",
    "for file in files:\n",
    "    print(file)"
   ]
  },
  {
   "cell_type": "code",
   "execution_count": 4,
   "metadata": {},
   "outputs": [
    {
     "name": "stdout",
     "output_type": "stream",
     "text": [
      "Adj. matrix files:  ['adj_mx']\n",
      "Test  files:  ['x', 'y', 'x_offsets', 'y_offsets']\n",
      "Train files:  ['x', 'y', 'x_offsets', 'y_offsets']\n",
      "Values files: ['x', 'y', 'x_offsets', 'y_offsets']\n"
     ]
    }
   ],
   "source": [
    "adj_mx = np.load(data_path + 'adj_mx.npz')\n",
    "print(\"Adj. matrix files: \", adj_mx.files)\n",
    "test = np.load(data_path + 'test.npz')\n",
    "print(\"Test  files: \", test.files)\n",
    "train = np.load(data_path + 'train.npz')\n",
    "print(\"Train files: \", train.files)\n",
    "val = np.load(data_path + 'val.npz')\n",
    "print(\"Values files:\", val.files)"
   ]
  },
  {
   "cell_type": "code",
   "execution_count": 5,
   "metadata": {},
   "outputs": [],
   "source": [
    "adj_mx = adj_mx['adj_mx']\n",
    "\n",
    "# Test  files:  ['x', 'y', 'x_offsets', 'y_offsets'] save in one file\n",
    "test_x = test['x']\n",
    "test_y = test['y']\n",
    "test_x_offsets = test['x_offsets']\n",
    "test_y_offsets = test['y_offsets']\n",
    "\n",
    "# Train files:  ['x', 'y', 'x_offsets', 'y_offsets'] save in one file\n",
    "train_x = train['x']\n",
    "train_y = train['y']\n",
    "train_x_offsets = train['x_offsets']\n",
    "train_y_offsets = train['y_offsets']\n",
    "\n",
    "# Values files: ['x', 'y', 'x_offsets', 'y_offsets'] save in one file\n",
    "val_x = val['x']\n",
    "val_y = val['y']\n",
    "val_x_offsets = val['x_offsets']\n",
    "val_y_offsets = val['y_offsets']\n",
    "\n",
    "\n"
   ]
  },
  {
   "cell_type": "code",
   "execution_count": 6,
   "metadata": {},
   "outputs": [
    {
     "data": {
      "text/plain": [
       "((864, 19, 128, 2), (864, 1, 128, 2), (19, 1), (1, 1))"
      ]
     },
     "execution_count": 6,
     "metadata": {},
     "output_type": "execute_result"
    }
   ],
   "source": [
    "test_x.shape, test_y.shape, test_x_offsets.shape, test_y_offsets.shape"
   ]
  },
  {
   "cell_type": "code",
   "execution_count": 7,
   "metadata": {},
   "outputs": [
    {
     "data": {
      "text/plain": [
       "array([[-73],\n",
       "       [-72],\n",
       "       [-71],\n",
       "       [-70],\n",
       "       [-69],\n",
       "       [-49],\n",
       "       [-48],\n",
       "       [-47],\n",
       "       [-46],\n",
       "       [-45],\n",
       "       [-25],\n",
       "       [-24],\n",
       "       [-23],\n",
       "       [-22],\n",
       "       [-21],\n",
       "       [ -3],\n",
       "       [ -2],\n",
       "       [ -1],\n",
       "       [  0]], dtype=int64)"
      ]
     },
     "execution_count": 7,
     "metadata": {},
     "output_type": "execute_result"
    }
   ],
   "source": [
    "test_x_offsets"
   ]
  },
  {
   "cell_type": "code",
   "execution_count": 8,
   "metadata": {},
   "outputs": [],
   "source": [
    "import numpy as np\n",
    "\n",
    "path_topology = './aug_graphs_topology/'\n",
    "path_traffic = './aug_graphs_traffic/'\n",
    "\n",
    "# read topology graphs and traffic graphs from .npy files\n",
    "# topology graphs aug_graph_x.npy\n",
    "# traffic graphs aug_graph_y.npy\n",
    "\n",
    "\n",
    "aug_graphs_topology = []\n",
    "\n",
    "for i in range(1, 107):\n",
    "    aug_graphs_topology.append(np.load(path_topology + 'aug_graph_' + str(i) + '.npy'))\n",
    "\n",
    "aug_graphs_traffic = []\n",
    "\n",
    "for i in range(1, 107):\n",
    "    aug_graphs_traffic.append(np.load(path_traffic + 'aug_flow_' + str(i) + '.npy'))"
   ]
  },
  {
   "cell_type": "code",
   "execution_count": 9,
   "metadata": {},
   "outputs": [],
   "source": [
    "adj_matrix = aug_graphs_topology[75]"
   ]
  },
  {
   "cell_type": "code",
   "execution_count": 10,
   "metadata": {},
   "outputs": [],
   "source": [
    "G = nx.from_numpy_array(adj_matrix)"
   ]
  },
  {
   "cell_type": "code",
   "execution_count": 11,
   "metadata": {},
   "outputs": [],
   "source": [
    "\n",
    "all_pair_distances = nx.floyd_warshall(G)\n",
    "mean_distance = sum([dist for node_distances in all_pair_distances.values() for dist in node_distances.values()]) / (len(G) * (len(G) - 1))\n",
    "average_clustering_coefficient = nx.average_clustering(G)"
   ]
  },
  {
   "cell_type": "code",
   "execution_count": 12,
   "metadata": {},
   "outputs": [
    {
     "data": {
      "text/plain": [
       "0.4493737599206355"
      ]
     },
     "execution_count": 12,
     "metadata": {},
     "output_type": "execute_result"
    }
   ],
   "source": [
    "mean_distance\n",
    "average_clustering_coefficient\n"
   ]
  },
  {
   "cell_type": "code",
   "execution_count": 13,
   "metadata": {},
   "outputs": [
    {
     "data": {
      "text/plain": [
       "0.054010826771653545"
      ]
     },
     "execution_count": 13,
     "metadata": {},
     "output_type": "execute_result"
    }
   ],
   "source": [
    "observed_edges = len(G.edges())\n",
    "possible_edges = len(G.nodes()) * (len(G.nodes()) - 1) / 2  # For an undirected graph\n",
    "p = observed_edges / possible_edges\n",
    "p"
   ]
  },
  {
   "cell_type": "code",
   "execution_count": 14,
   "metadata": {},
   "outputs": [
    {
     "name": "stdout",
     "output_type": "stream",
     "text": [
      "19 , 2.706200787401575 , 0.03984626484626482\n"
     ]
    }
   ],
   "source": [
    "num_ensemble = 20\n",
    "mean_distances = []\n",
    "mean_clustering_coefficients = []\n",
    "\n",
    "for i in range(num_ensemble):\n",
    "    \n",
    "    # Create ER graph\n",
    "    er_graph = nx.erdos_renyi_graph(len(G.nodes()), p)\n",
    "\n",
    "    all_distances = nx.floyd_warshall(er_graph)\n",
    "    \n",
    "\n",
    "    # Step 3: Calculate mean distance for each ER graph\n",
    "    er_mean_distance = sum([dist for node_distances in all_distances.values() for dist in node_distances.values()]) / (len(er_graph) * (len(er_graph) - 1))\n",
    "    \n",
    "    mean_clustering_coefficients.append(nx.average_clustering(er_graph))\n",
    "    mean_distances.append(er_mean_distance if er_mean_distance != float('inf') else np.mean(mean_distances))\n",
    "    \n",
    "# Step 4: Calculate the mean of mean distances\n",
    "print(i, ',', mean_distances[i], ',', mean_clustering_coefficients[i])\n",
    "ensemble_mean_distance = np.mean(mean_distances)\n",
    "ensemble_mean_clustering_coefficient = np.mean(mean_clustering_coefficients)\n"
   ]
  },
  {
   "cell_type": "code",
   "execution_count": 15,
   "metadata": {},
   "outputs": [
    {
     "name": "stdout",
     "output_type": "stream",
     "text": [
      "L / L_r = 1.4684804942163743\n",
      "C / C_r = 8.172064975835827\n"
     ]
    }
   ],
   "source": [
    "print('L / L_r =',  mean_distance/ensemble_mean_distance)\n",
    "print('C / C_r =', average_clustering_coefficient/ensemble_mean_clustering_coefficient )\n"
   ]
  },
  {
   "cell_type": "markdown",
   "metadata": {},
   "source": [
    "Sparsity Index (equal to observed edges/ possible edges)"
   ]
  },
  {
   "cell_type": "code",
   "execution_count": 16,
   "metadata": {},
   "outputs": [
    {
     "ename": "",
     "evalue": "",
     "output_type": "error",
     "traceback": [
      "\u001b[1;31mThe Kernel crashed while executing code in the the current cell or a previous cell. Please review the code in the cell(s) to identify a possible cause of the failure. Click <a href='https://aka.ms/vscodeJupyterKernelCrash'>here</a> for more info. View Jupyter <a href='command:jupyter.viewOutput'>log</a> for further details."
     ]
    }
   ],
   "source": [
    "import networkx as nx\n",
    "import numpy as np\n",
    "from scipy.stats import powerlaw, kstest\n",
    "import matplotlib.pyplot as plt\n",
    "\n",
    "# Assuming you have a graph G\n",
    "# G = ...\n",
    "\n",
    "# Calculate degree distribution\n",
    "degree_sequence = [d for n, d in G.degree()]\n",
    "\n",
    "# Plot the degree distribution\n",
    "plt.hist(degree_sequence, bins='auto', alpha=0.75, density=True, edgecolor='black')\n",
    "plt.title(\"Degree Distribution\")\n",
    "plt.xlabel(\"Degree\")\n",
    "plt.ylabel(\"Probability\")\n",
    "plt.show()\n",
    "\n",
    "# Fit the data to a power-law distribution\n",
    "fit_alpha, fit_loc, fit_beta = powerlaw.fit(degree_sequence)\n",
    "\n",
    "# Plot the power-law fit\n",
    "x_range = np.linspace(0, 1000, num=1000)\n",
    "pdf = powerlaw.pdf(x_range, fit_alpha, fit_loc, fit_beta)\n",
    "plt.plot(x_range, pdf, 'r-', linewidth=2, label='Fit')\n",
    "\n",
    "# Perform Kolmogorov-Smirnov test\n",
    "ks_statistic, ks_p_value = kstest(degree_sequence, 'powerlaw', args=(fit_alpha, fit_loc, fit_beta))\n",
    "print(\"K-S Statistic:\", ks_statistic)\n",
    "print(\"P-value:\", ks_p_value)\n",
    "\n",
    "\n"
   ]
  },
  {
   "cell_type": "code",
   "execution_count": null,
   "metadata": {},
   "outputs": [
    {
     "data": {
      "text/plain": [
       "6.209077754752911e-24"
      ]
     },
     "execution_count": 2912,
     "metadata": {},
     "output_type": "execute_result"
    }
   ],
   "source": [
    "ks_p_value"
   ]
  },
  {
   "cell_type": "code",
   "execution_count": null,
   "metadata": {},
   "outputs": [],
   "source": [
    "\n",
    "    "
   ]
  },
  {
   "cell_type": "code",
   "execution_count": null,
   "metadata": {},
   "outputs": [],
   "source": [
    "def rewire_to_small_world(G,sim, p, only_distance = False):\n",
    "    n = len(G.nodes())\n",
    "    \n",
    "    degree_sequence = [d for n, d in G.degree()]\n",
    "    \n",
    "    if not only_distance:\n",
    "    # Ensure the matrix is symmetric\n",
    "\n",
    "\n",
    "        # Iterate through each edge\n",
    "        for i in range(n):\n",
    "            for j in range(i + 1, n):\n",
    "                # Check if there is an edge\n",
    "                if G.has_edge(i,j):\n",
    "                    # Rewire the edge with probability p\n",
    "                    if np.random.rand() < p:\n",
    "                        \n",
    "                        # Choose a random node (excluding the source node and its neighbors)\n",
    "                        choices = np.delete(np.arange(n), [i, *np.where(nx.to_numpy_array(G)[i, :] == 1)[0]])\n",
    "                        new_j = np.random.choice(choices)\n",
    "\n",
    "                        # Rewire the edge\n",
    "                        if G.degree(new_j < np.mean(degree_sequence)) & G.degree(j > np.mean(degree_sequence)):\n",
    "                            G.remove_edge(i,j)\n",
    "                            G.add_edge(i, new_j)\n",
    "\n",
    "    else:\n",
    "        probability_of_edge = p \n",
    "\n",
    "# Randomly add edges based on the specified probability\n",
    "        for node1 in range(n):\n",
    "            for node2 in range(node1 + 1, n):\n",
    "                if (random.random() < probability_of_edge) & (sim[node1,node2] < 0.9) & G.has_edge(node1,node2) & G.degree(node1) != np.min(G.degree()) & G.degree(node2)!= np.min(G.degree()):\n",
    "            # Set both entries to 1 to represent an undirected graph\n",
    "                   G.remove_edge(node1, node2)\n",
    "    \n",
    "    return G\n",
    "\n",
    "# Example usage\n",
    "n = 20  # Number of nodes\n",
    "p = 0.3  # Rewiring probability"
   ]
  },
  {
   "cell_type": "code",
   "execution_count": null,
   "metadata": {},
   "outputs": [],
   "source": [
    "adj2 = adj_matrix"
   ]
  },
  {
   "cell_type": "code",
   "execution_count": null,
   "metadata": {},
   "outputs": [],
   "source": [
    "G2 = nx.from_numpy_array(adj2)\n",
    "\n"
   ]
  },
  {
   "cell_type": "code",
   "execution_count": null,
   "metadata": {},
   "outputs": [],
   "source": [
    "def generate_power_law_graph(G, similarity_matrix, alpha):\n",
    "    # Create a graph from the adjacency matrix\n",
    "    \n",
    "\n",
    "    # Get the number of nodes in the graph\n",
    "    num_nodes = G.number_of_nodes()\n",
    "\n",
    "    # Add edges based on power-law distribution and node similarities\n",
    "    for i in range(num_nodes):\n",
    "        for j in range(i + 1, num_nodes):\n",
    "            if (((G.degree(j)))/np.sum(list(dict(G.degree()).values()))>0.01) :\n",
    "                G.add_edge(i, j)\n",
    "\n",
    "    return G"
   ]
  },
  {
   "cell_type": "markdown",
   "metadata": {},
   "source": [
    "Random similarity matrix\n"
   ]
  },
  {
   "cell_type": "code",
   "execution_count": null,
   "metadata": {},
   "outputs": [],
   "source": [
    "n = 128\n",
    "\n",
    "# Generate a random float matrix with values between 0 and 1\n",
    "random_float_array = np.random.rand(n, n)\n"
   ]
  },
  {
   "cell_type": "code",
   "execution_count": null,
   "metadata": {},
   "outputs": [
    {
     "data": {
      "image/png": "[encoded data removed]",
      "text/plain": [
       "<Figure size 640x480 with 1 Axes>"
      ]
     },
     "metadata": {},
     "output_type": "display_data"
    }
   ],
   "source": [
    "alpha = 4 # Power-law exponent\n",
    "\n",
    "# Generate the power-law distributed graph\n",
    "power_law_graph = generate_power_law_graph(G, random_float_array, alpha)\n",
    "\n",
    "# Visualize the graph\n",
    "degree_sequence = [d for n, d in power_law_graph.degree()]\n",
    "\n",
    "# Plot the degree distribution\n",
    "plt.hist(degree_sequence, bins='auto', alpha=0.75, density=True, edgecolor='black')\n",
    "plt.title(\"Degree Distribution\")\n",
    "plt.xlabel(\"Degree\")\n",
    "plt.ylabel(\"Probability\")\n",
    "plt.show()\n"
   ]
  },
  {
   "cell_type": "code",
   "execution_count": null,
   "metadata": {},
   "outputs": [
    {
     "data": {
      "text/plain": [
       "0.13176673228346455"
      ]
     },
     "execution_count": 2920,
     "metadata": {},
     "output_type": "execute_result"
    }
   ],
   "source": [
    "observed_edges = len(power_law_graph.edges())\n",
    "possible_edges = len(power_law_graph.nodes()) * (len(power_law_graph.nodes()) - 1) / 2  # For an undirected graph\n",
    "p = observed_edges / possible_edges\n",
    "p"
   ]
  },
  {
   "cell_type": "code",
   "execution_count": null,
   "metadata": {},
   "outputs": [
    {
     "name": "stdout",
     "output_type": "stream",
     "text": [
      "0 , 1.9772391732283465 , 0.12486568835811972\n",
      "1 , 1.9579232283464567 , 0.1267428259821141\n",
      "2 , 1.9480807086614174 , 0.13126059889279826\n",
      "3 , 1.9459891732283465 , 0.13304420761792526\n",
      "4 , 1.954601377952756 , 0.128802324406213\n",
      "5 , 1.9699803149606299 , 0.13230035418093072\n",
      "6 , 1.9753937007874016 , 0.12943056147832713\n",
      "7 , 1.9569389763779528 , 0.12740882297481113\n",
      "8 , 1.9576771653543308 , 0.14033828821824967\n",
      "9 , 1.9640748031496063 , 0.13323712430396845\n",
      "10 , 1.984005905511811 , 0.13245463512537112\n",
      "11 , 1.9638287401574803 , 0.12530754521146367\n",
      "12 , 1.9475885826771653 , 0.1352216538386708\n",
      "13 , 1.9616141732283465 , 0.12858350875576957\n",
      "14 , 1.967273622047244 , 0.13379601718825526\n",
      "15 , 1.924458661417323 , 0.1384330710384277\n",
      "16 , 1.9562007874015748 , 0.13647410855865866\n",
      "17 , 1.9469734251968505 , 0.13798652387538105\n",
      "18 , 1.953494094488189 , 0.131238896240312\n",
      "19 , 1.9701033464566928 , 0.11998528202568631\n"
     ]
    }
   ],
   "source": [
    "num_ensemble = 20\n",
    "mean_distances = []\n",
    "mean_clustering_coefficients = []\n",
    "\n",
    "for i in range(num_ensemble):\n",
    "    \n",
    "    # Create ER graph\n",
    "    er_graph = nx.erdos_renyi_graph(len(G.nodes()), p)\n",
    "\n",
    "    all_distances = nx.floyd_warshall(er_graph)\n",
    "    \n",
    "\n",
    "    # Step 3: Calculate mean distance for each ER graph\n",
    "    er_mean_distance = sum([dist for node_distances in all_distances.values() for dist in node_distances.values()]) / (len(er_graph) * (len(er_graph) - 1))\n",
    "    \n",
    "    mean_clustering_coefficients.append(nx.average_clustering(er_graph))\n",
    "    mean_distances.append(er_mean_distance if er_mean_distance != float('inf') else np.mean(mean_distances))\n",
    "    print(i, ',', mean_distances[i], ',', mean_clustering_coefficients[i])\n",
    "# Step 4: Calculate the mean of mean distances\n",
    "ensemble_mean_distance = np.mean(mean_distances)\n",
    "ensemble_mean_clustering_coefficient = np.mean(mean_clustering_coefficients)"
   ]
  },
  {
   "cell_type": "code",
   "execution_count": null,
   "metadata": {},
   "outputs": [],
   "source": [
    "\n",
    "\n",
    "all_pair_distances = nx.floyd_warshall(power_law_graph)\n",
    "mean_distance = sum([dist for node_distances in all_pair_distances.values() for dist in node_distances.values()]) / (len(power_law_graph) * (len(power_law_graph) - 1))\n",
    "average_clustering_coefficient = nx.average_clustering(power_law_graph)"
   ]
  },
  {
   "cell_type": "code",
   "execution_count": null,
   "metadata": {},
   "outputs": [
    {
     "name": "stdout",
     "output_type": "stream",
     "text": [
      "L / L_r = 1.304057045430996\n",
      "C / C_r = 5.361255155219941\n"
     ]
    }
   ],
   "source": [
    "print('L / L_r =',  mean_distance/ensemble_mean_distance)\n",
    "print('C / C_r =', average_clustering_coefficient/ensemble_mean_clustering_coefficient )"
   ]
  },
  {
   "cell_type": "code",
   "execution_count": null,
   "metadata": {},
   "outputs": [],
   "source": [
    "power_law_graph = rewire_to_small_world(power_law_graph, random_float_array, 0.05, only_distance= False)\n",
    "power_law_graph = rewire_to_small_world(power_law_graph, random_float_array, 0.7, only_distance= True)"
   ]
  },
  {
   "cell_type": "code",
   "execution_count": null,
   "metadata": {},
   "outputs": [
    {
     "name": "stdout",
     "output_type": "stream",
     "text": [
      "0 , 1.9726870078740157 , 0.13403816544411581\n",
      "1 , 1.9486958661417322 , 0.1305843151750764\n",
      "2 , 1.970349409448819 , 0.12984350832829444\n",
      "3 , 1.9606299212598426 , 0.13593666949408587\n",
      "4 , 1.9575541338582678 , 0.13671915211264274\n",
      "5 , 1.9762549212598426 , 0.12593516921326953\n",
      "6 , 1.9632135826771653 , 0.12514031677716106\n",
      "7 , 1.9558316929133859 , 0.13601215015998577\n",
      "8 , 1.969365157480315 , 0.13710765035019537\n",
      "9 , 1.953986220472441 , 0.13546115194295555\n",
      "10 , 1.96875 , 0.13080868013380162\n",
      "11 , 1.9302411417322836 , 0.14534249661934973\n",
      "12 , 1.9403297244094488 , 0.13390862563640368\n",
      "13 , 1.9778543307086613 , 0.11880927245505135\n",
      "14 , 1.9421751968503937 , 0.1391769624053999\n",
      "15 , 1.9569389763779528 , 0.14226417127953747\n",
      "16 , 1.9591535433070866 , 0.13520618175911195\n",
      "17 , 1.9789616141732282 , 0.129816435449291\n",
      "18 , 1.954601377952756 , 0.1363060782966409\n",
      "19 , 1.9733021653543308 , 0.13568779427988786\n"
     ]
    }
   ],
   "source": [
    "observed_edges = len(power_law_graph.edges())\n",
    "possible_edges = len(power_law_graph.nodes()) * (len(power_law_graph.nodes()) - 1) / 2  # For an undirected graph\n",
    "p = observed_edges / possible_edges\n",
    "p\n",
    "\n",
    "num_ensemble = 20\n",
    "mean_distances = []\n",
    "mean_clustering_coefficients = []\n",
    "\n",
    "for i in range(num_ensemble):\n",
    "    \n",
    "    # Create ER graph\n",
    "    er_graph = nx.erdos_renyi_graph(len(G.nodes()), p)\n",
    "\n",
    "    all_distances = nx.floyd_warshall(er_graph)\n",
    "    \n",
    "\n",
    "    # Step 3: Calculate mean distance for each ER graph\n",
    "    er_mean_distance = sum([dist for node_distances in all_distances.values() for dist in node_distances.values()]) / (len(er_graph) * (len(er_graph) - 1))\n",
    "    \n",
    "    mean_clustering_coefficients.append(nx.average_clustering(er_graph))\n",
    "    mean_distances.append(er_mean_distance if er_mean_distance != float('inf') else np.mean(mean_distances))\n",
    "    print(i, ',', mean_distances[i], ',', mean_clustering_coefficients[i])\n",
    "# Step 4: Calculate the mean of mean distances\n",
    "ensemble_mean_distance = np.mean(mean_distances)\n",
    "ensemble_mean_clustering_coefficient = np.mean(mean_clustering_coefficients)"
   ]
  },
  {
   "cell_type": "code",
   "execution_count": null,
   "metadata": {},
   "outputs": [
    {
     "name": "stdout",
     "output_type": "stream",
     "text": [
      "L / L_r = 1.303144590939612\n",
      "C / C_r = 5.26663911289178\n"
     ]
    }
   ],
   "source": [
    "print('L / L_r =',  mean_distance/ensemble_mean_distance)\n",
    "print('C / C_r =', average_clustering_coefficient/ensemble_mean_clustering_coefficient )"
   ]
  },
  {
   "cell_type": "code",
   "execution_count": null,
   "metadata": {},
   "outputs": [
    {
     "data": {
      "image/png": "[encoded data removed]",
      "text/plain": [
       "<Figure size 640x480 with 1 Axes>"
      ]
     },
     "metadata": {},
     "output_type": "display_data"
    }
   ],
   "source": [
    "degree_sequence = [d for n, d in power_law_graph.degree()]\n",
    "\n",
    "# Plot the degree distribution\n",
    "plt.hist(degree_sequence,  alpha=0.75, density=True, edgecolor='black')\n",
    "plt.title(\"Degree Distribution\")\n",
    "plt.xlabel(\"Degree\")\n",
    "plt.ylabel(\"Probability\")\n",
    "plt.show()"
   ]
  },
  {
   "cell_type": "code",
   "execution_count": null,
   "metadata": {},
   "outputs": [
    {
     "data": {
      "text/plain": [
       "DegreeView({0: 14, 1: 16, 2: 16, 3: 15, 4: 15, 5: 16, 6: 16, 7: 17, 8: 16, 9: 21, 10: 20, 11: 16, 12: 19, 13: 16, 14: 18, 15: 16, 16: 15, 17: 18, 18: 18, 19: 18, 20: 19, 21: 18, 22: 36, 23: 14, 24: 14, 25: 16, 26: 18, 27: 18, 28: 17, 29: 17, 30: 43, 31: 14, 32: 13, 33: 15, 34: 16, 35: 14, 36: 17, 37: 16, 38: 17, 39: 14, 40: 13, 41: 17, 42: 17, 43: 15, 44: 17, 45: 17, 46: 16, 47: 12, 48: 60, 49: 13, 50: 12, 51: 15, 52: 16, 53: 16, 54: 16, 55: 12, 56: 12, 57: 67, 58: 68, 59: 14, 60: 13, 61: 12, 62: 11, 63: 10, 64: 12, 65: 14, 66: 13, 67: 12, 68: 11, 69: 77, 70: 13, 71: 9, 72: 9, 73: 11, 74: 10, 75: 77, 76: 81, 77: 9, 78: 11, 79: 8, 80: 8, 81: 85, 82: 9, 83: 87, 84: 88, 85: 8, 86: 9, 87: 5, 88: 5, 89: 8, 90: 8, 91: 8, 92: 8, 93: 8, 94: 8, 95: 5, 96: 5, 97: 8, 98: 9, 99: 8, 100: 8, 101: 8, 102: 8, 103: 5, 104: 5, 105: 8, 106: 8, 107: 8, 108: 9, 109: 8, 110: 8, 111: 5, 112: 6, 113: 8, 114: 8, 115: 8, 116: 8, 117: 8, 118: 8, 119: 5, 120: 3, 121: 5, 122: 6, 123: 6, 124: 5, 125: 5, 126: 5, 127: 3})"
      ]
     },
     "execution_count": 2928,
     "metadata": {},
     "output_type": "execute_result"
    }
   ],
   "source": [
    "power_law_graph.degree()"
   ]
  },
  {
   "cell_type": "code",
   "execution_count": null,
   "metadata": {},
   "outputs": [
    {
     "name": "stdout",
     "output_type": "stream",
     "text": [
      "K-S Statistic: 0.984375\n",
      "P-value: 1.2882297539194267e-231\n"
     ]
    }
   ],
   "source": [
    "fit_alpha, fit_loc, fit_beta = powerlaw.fit(degree_sequence)\n",
    "\n",
    "# Plot the power-law fit\n",
    "x_range = np.linspace(min(degree_sequence), max(degree_sequence), num=10)\n",
    "pdf = powerlaw.pdf(x_range, fit_alpha, fit_loc, fit_beta)\n",
    "\n",
    "\n",
    "# Perform Kolmogorov-Smirnov test\n",
    "ks_statistic, ks_p_value = kstest(degree_sequence, 'powerlaw', args=(2,2,2))\n",
    "print(\"K-S Statistic:\", ks_statistic)\n",
    "print(\"P-value:\", ks_p_value)\n"
   ]
  },
  {
   "cell_type": "code",
   "execution_count": null,
   "metadata": {},
   "outputs": [
    {
     "ename": "NameError",
     "evalue": "name 'G' is not defined",
     "output_type": "error",
     "traceback": [
      "\u001b[1;31m---------------------------------------------------------------------------\u001b[0m",
      "\u001b[1;31mNameError\u001b[0m                                 Traceback (most recent call last)",
      "Cell \u001b[1;32mIn[5], line 1\u001b[0m\n\u001b[1;32m----> 1\u001b[0m x \u001b[38;5;241m=\u001b[39m nx\u001b[38;5;241m.\u001b[39mto_numpy_array(G)\n",
      "\u001b[1;31mNameError\u001b[0m: name 'G' is not defined"
     ]
    }
   ],
   "source": [
    "x = nx.to_numpy_array(G)"
   ]
  },
  {
   "cell_type": "code",
   "execution_count": null,
   "metadata": {},
   "outputs": [
    {
     "ename": "NameError",
     "evalue": "name 'x' is not defined",
     "output_type": "error",
     "traceback": [
      "\u001b[1;31m---------------------------------------------------------------------------\u001b[0m",
      "\u001b[1;31mNameError\u001b[0m                                 Traceback (most recent call last)",
      "Cell \u001b[1;32mIn[4], line 1\u001b[0m\n\u001b[1;32m----> 1\u001b[0m y \u001b[38;5;241m=\u001b[39m torch\u001b[38;5;241m.\u001b[39mfrom_numpy(x)\n",
      "\u001b[1;31mNameError\u001b[0m: name 'x' is not defined"
     ]
    }
   ],
   "source": [
    "y = torch.from_numpy(x)"
   ]
  }
 ],
 "metadata": {
  "kernelspec": {
   "display_name": "Python 3",
   "language": "python",
   "name": "python3"
  },
  "language_info": {
   "codemirror_mode": {
    "name": "ipython",
    "version": 3
   },
   "file_extension": ".py",
   "mimetype": "text/x-python",
   "name": "python",
   "nbconvert_exporter": "python",
   "pygments_lexer": "ipython3",
   "version": "3.11.4"
  }
 },
 "nbformat": 4,
 "nbformat_minor": 2
}
